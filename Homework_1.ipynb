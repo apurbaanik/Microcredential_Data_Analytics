{
  "nbformat": 4,
  "nbformat_minor": 0,
  "metadata": {
    "colab": {
      "name": "Homework 1.ipynb",
      "provenance": [],
      "collapsed_sections": [],
      "include_colab_link": true
    },
    "kernelspec": {
      "name": "python3",
      "display_name": "Python 3"
    },
    "language_info": {
      "name": "python"
    }
  },
  "cells": [
    {
      "cell_type": "markdown",
      "metadata": {
        "id": "view-in-github",
        "colab_type": "text"
      },
      "source": [
        "<a href=\"https://colab.research.google.com/github/apurbaanik/Microcredential_Data_Analytics/blob/main/Homework_1.ipynb\" target=\"_parent\"><img src=\"https://colab.research.google.com/assets/colab-badge.svg\" alt=\"Open In Colab\"/></a>"
      ]
    },
    {
      "cell_type": "markdown",
      "source": [
        "# Answer all the questions!"
      ],
      "metadata": {
        "id": "FkJsXd8D06Rp"
      }
    },
    {
      "cell_type": "markdown",
      "source": [
        "##Write a Python program to get the volume of a sphere with radius 6"
      ],
      "metadata": {
        "id": "elOgKZR009ex"
      }
    },
    {
      "cell_type": "code",
      "source": [
        "radius = 6\n",
        "pi = 3.1416\n",
        "volume = (4.0/3.0)*pi*radius**3\n",
        "print(\"Volume of a sphere is \", volume)"
      ],
      "metadata": {
        "id": "YbhKO6Cs09av",
        "colab": {
          "base_uri": "https://localhost:8080/"
        },
        "outputId": "82a87e3a-f7ed-453c-bb35-42b9154c0b18"
      },
      "execution_count": 4,
      "outputs": [
        {
          "output_type": "stream",
          "name": "stdout",
          "text": [
            "Volume of a sphere is  904.7807999999999\n"
          ]
        }
      ]
    },
    {
      "cell_type": "markdown",
      "source": [
        "##Write a Python program to find whether a given number (accept from the user) is even or odd"
      ],
      "metadata": {
        "id": "OuX7aazu09X1"
      }
    },
    {
      "cell_type": "code",
      "source": [
        "val = int(input(\"Put a number - \"))\n",
        "if (val%2) == 0:\n",
        "  print(\"{} is Even.\".format(val))\n",
        "else:\n",
        "  print(\"{} is Odd.\".format(val))"
      ],
      "metadata": {
        "id": "vcYhNNaU09Uz",
        "colab": {
          "base_uri": "https://localhost:8080/"
        },
        "outputId": "086be776-9ecd-4196-f5cd-53018d31de8a"
      },
      "execution_count": 26,
      "outputs": [
        {
          "output_type": "stream",
          "name": "stdout",
          "text": [
            "Put a number - 8\n",
            "8 is Even.\n"
          ]
        }
      ]
    },
    {
      "cell_type": "markdown",
      "source": [
        "##Write a Python program to count the number 4 in a given list"
      ],
      "metadata": {
        "id": "NP5TZKqO09Rr"
      }
    },
    {
      "cell_type": "code",
      "source": [
        "def counter(myList):\n",
        "  count = 0\n",
        "  for fours in myList:\n",
        "    if fours == 4:\n",
        "      count += 1\n",
        "  return count\n",
        "\n",
        "print(counter([3,4,5,8,4,9,4,2,3,4,4,6,7,4]))"
      ],
      "metadata": {
        "id": "oWZ3vTfW09Oh",
        "colab": {
          "base_uri": "https://localhost:8080/"
        },
        "outputId": "926aeeda-732f-455c-d552-e55064b9287d"
      },
      "execution_count": 28,
      "outputs": [
        {
          "output_type": "stream",
          "name": "stdout",
          "text": [
            "6\n"
          ]
        }
      ]
    },
    {
      "cell_type": "markdown",
      "source": [
        "##Write a Python program that will accept the base and height of a triangle and compute the area"
      ],
      "metadata": {
        "id": "IK0FvUoa1MJG"
      }
    },
    {
      "cell_type": "code",
      "source": [
        "base = float(input(\"Put the base - \"))\n",
        "height = float(input(\"Put the height - \"))\n",
        "\n",
        "area = (base * height)/2\n",
        "\n",
        "print(\"The area is {}\".format(area))"
      ],
      "metadata": {
        "id": "G02dv4rh1MFs",
        "colab": {
          "base_uri": "https://localhost:8080/"
        },
        "outputId": "234e3d21-5733-40be-aa99-648ffd8a269e"
      },
      "execution_count": 30,
      "outputs": [
        {
          "output_type": "stream",
          "name": "stdout",
          "text": [
            "Put the base - 4\n",
            "Put the height - 10\n",
            "The area is 20.0\n"
          ]
        }
      ]
    },
    {
      "cell_type": "markdown",
      "source": [
        "##Write a Python program to convert the distance (in feet) to inches, yards, and miles."
      ],
      "metadata": {
        "id": "sOkeycZk1L5-"
      }
    },
    {
      "cell_type": "code",
      "source": [
        "feet = float(input(\"Put the distance(feet) - \"))\n",
        "inch = feet*12\n",
        "yard = feet/3\n",
        "miles = feet/5280\n",
        "\n",
        "print(\"Distance in inch %i.\" % inch)\n",
        "print(\"Distance in yard %.4f.\" % yard)\n",
        "print(\"Distance in miles %.8f.\" % miles)"
      ],
      "metadata": {
        "id": "YtW-ZxqB1L2c",
        "colab": {
          "base_uri": "https://localhost:8080/"
        },
        "outputId": "f2070ca6-5912-46a9-e0fc-2d1468454ea0"
      },
      "execution_count": 37,
      "outputs": [
        {
          "output_type": "stream",
          "name": "stdout",
          "text": [
            "Put the distance(feet) - 14\n",
            "Distance in inch 168.\n",
            "Distance in yard 4.6667.\n",
            "Distance in miles 0.00265152.\n"
          ]
        }
      ]
    }
  ]
}